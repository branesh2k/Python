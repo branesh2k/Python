{
 "cells": [
  {
   "cell_type": "markdown",
   "metadata": {},
   "source": [
    "## **ndarray (n-dimensional array)**\n",
    "It is a grid of values, all of the same type, and is indexed by a tuple of nonnegative integers. "
   ]
  },
  {
   "cell_type": "markdown",
   "metadata": {},
   "source": [
    "### **Array Creation and Data Types**"
   ]
  },
  {
   "cell_type": "markdown",
   "metadata": {},
   "source": [
    "#### From a Python List:"
   ]
  },
  {
   "cell_type": "code",
   "execution_count": 2,
   "metadata": {},
   "outputs": [
    {
     "data": {
      "text/plain": [
       "array([1, 2, 3, 4, 5])"
      ]
     },
     "execution_count": 2,
     "metadata": {},
     "output_type": "execute_result"
    }
   ],
   "source": [
    "import numpy as np \n",
    "\n",
    "my_array = np.array([1,2,3,4,5])\n",
    "my_array"
   ]
  },
  {
   "cell_type": "code",
   "execution_count": 35,
   "metadata": {},
   "outputs": [
    {
     "name": "stdout",
     "output_type": "stream",
     "text": [
      "<class 'numpy.ndarray'>\n"
     ]
    },
    {
     "data": {
      "text/plain": [
       "(5,)"
      ]
     },
     "execution_count": 35,
     "metadata": {},
     "output_type": "execute_result"
    }
   ],
   "source": [
    "print(type(my_array))\n",
    "my_array.shape\n"
   ]
  },
  {
   "cell_type": "markdown",
   "metadata": {},
   "source": [
    "#### Using built_in functions:"
   ]
  },
  {
   "cell_type": "code",
   "execution_count": 8,
   "metadata": {},
   "outputs": [
    {
     "data": {
      "text/plain": [
       "array([[0., 0.],\n",
       "       [0., 0.]])"
      ]
     },
     "execution_count": 8,
     "metadata": {},
     "output_type": "execute_result"
    }
   ],
   "source": [
    "#using zeroes\n",
    "zeros = np.zeros((2,2))\n",
    "zeros"
   ]
  },
  {
   "cell_type": "code",
   "execution_count": 10,
   "metadata": {},
   "outputs": [
    {
     "data": {
      "text/plain": [
       "array([[1., 1., 1.],\n",
       "       [1., 1., 1.],\n",
       "       [1., 1., 1.]])"
      ]
     },
     "execution_count": 10,
     "metadata": {},
     "output_type": "execute_result"
    }
   ],
   "source": [
    "#array pf ones\n",
    "ones = np.ones((3,3))\n",
    "ones"
   ]
  },
  {
   "cell_type": "code",
   "execution_count": 15,
   "metadata": {},
   "outputs": [
    {
     "data": {
      "text/plain": [
       "array([[0.62835583, 0.09294293, 0.5617341 ],\n",
       "       [0.46690263, 0.24067803, 0.45398405],\n",
       "       [0.8405684 , 0.52728024, 0.04044025]])"
      ]
     },
     "execution_count": 15,
     "metadata": {},
     "output_type": "execute_result"
    }
   ],
   "source": [
    "#array of random nums\n",
    "random_nums = np.random.random((3,3))\n",
    "random_nums"
   ]
  },
  {
   "cell_type": "code",
   "execution_count": 14,
   "metadata": {},
   "outputs": [
    {
     "data": {
      "text/plain": [
       "array([0, 1, 2, 3, 4, 5, 6, 7, 8, 9])"
      ]
     },
     "execution_count": 14,
     "metadata": {},
     "output_type": "execute_result"
    }
   ],
   "source": [
    "# Array with a range of values\n",
    "range_array = np.arange(10)\n",
    "range_array"
   ]
  },
  {
   "cell_type": "markdown",
   "metadata": {},
   "source": [
    "#### Specifying DataTypes"
   ]
  },
  {
   "cell_type": "code",
   "execution_count": 19,
   "metadata": {},
   "outputs": [
    {
     "data": {
      "text/plain": [
       "array([1, 2, 3, 4, 5])"
      ]
     },
     "execution_count": 19,
     "metadata": {},
     "output_type": "execute_result"
    }
   ],
   "source": [
    "dt = np.array([1.1,2.2,3.3,4.4,5.5],dtype=int)\n",
    "dt"
   ]
  },
  {
   "cell_type": "markdown",
   "metadata": {},
   "source": [
    "#### Broadcasting:\n",
    "Broadcasting allows NumPy to perform element-wise operations on arrays of different shapes."
   ]
  },
  {
   "cell_type": "code",
   "execution_count": 30,
   "metadata": {},
   "outputs": [
    {
     "data": {
      "text/plain": [
       "array([5, 6, 7])"
      ]
     },
     "execution_count": 30,
     "metadata": {},
     "output_type": "execute_result"
    }
   ],
   "source": [
    "array1 = np.array([1, 2, 3])\n",
    "array2 = np.array([4])\n",
    "result = array1 + array2\n",
    "result\n"
   ]
  },
  {
   "cell_type": "markdown",
   "metadata": {},
   "source": [
    "#### Shape Manupulation"
   ]
  },
  {
   "cell_type": "code",
   "execution_count": 44,
   "metadata": {},
   "outputs": [
    {
     "name": "stdout",
     "output_type": "stream",
     "text": [
      "(2, 4)\n",
      "(4, 2)\n"
     ]
    },
    {
     "data": {
      "text/plain": [
       "array([[1, 2],\n",
       "       [3, 4],\n",
       "       [5, 6],\n",
       "       [7, 8]])"
      ]
     },
     "execution_count": 44,
     "metadata": {},
     "output_type": "execute_result"
    }
   ],
   "source": [
    "arr = np.array([[1,2,3,4],[5,6,7,8]])       #2-D array\n",
    "print(arr.shape)\n",
    "\n",
    "arr = arr.reshape(4,2)\n",
    "print(arr.shape)\n",
    "arr"
   ]
  },
  {
   "cell_type": "markdown",
   "metadata": {},
   "source": [
    "#### Indexing"
   ]
  },
  {
   "cell_type": "code",
   "execution_count": 3,
   "metadata": {},
   "outputs": [
    {
     "name": "stdout",
     "output_type": "stream",
     "text": [
      "Element at index 0: 10\n",
      "Element at index 2: 30\n",
      "Element at index -1 (last element): 50\n"
     ]
    }
   ],
   "source": [
    "# 1-D array\n",
    "array_1d = np.array([10, 20, 30, 40, 50])\n",
    "\n",
    "print(\"Element at index 0:\", array_1d[0])  \n",
    "print(\"Element at index 2:\", array_1d[2])  \n",
    "print(\"Element at index -1 (last element):\", array_1d[-1])"
   ]
  },
  {
   "cell_type": "code",
   "execution_count": 4,
   "metadata": {},
   "outputs": [
    {
     "name": "stdout",
     "output_type": "stream",
     "text": [
      "Element at [0, 0] (first row, first column): 10\n",
      "Element at [1, 2] (second row, third column): 60\n",
      "Element at [2, -1] (third row, last column): 90\n"
     ]
    }
   ],
   "source": [
    "# 2-D array\n",
    "array_2d = np.array([[10, 20, 30], [40, 50, 60], [70, 80, 90]])\n",
    "\n",
    "print(\"Element at [0, 0] (first row, first column):\", array_2d[0, 0])  \n",
    "print(\"Element at [1, 2] (second row, third column):\", array_2d[1, 2]) \n",
    "print(\"Element at [2, -1] (third row, last column):\", array_2d[2, -1])"
   ]
  },
  {
   "cell_type": "code",
   "execution_count": 5,
   "metadata": {},
   "outputs": [
    {
     "name": "stdout",
     "output_type": "stream",
     "text": [
      "Element at [0, 1, 2] (first depth, second row, third column): 6\n",
      "Element at [2, 0, 1] (third depth, first row, second column): 14\n",
      "Element at [-1, -1, -1] (last depth, last row, last column): 18\n"
     ]
    }
   ],
   "source": [
    "# 3-D array\n",
    "array_3d = np.array([[[ 1,  2,  3], [ 4,  5,  6]], \n",
    "                     [[ 7,  8,  9], [10, 11, 12]], \n",
    "                     [[13, 14, 15], [16, 17, 18]]])\n",
    "\n",
    "print(\"Element at [0, 1, 2] (first depth, second row, third column):\", array_3d[0, 1, 2])  \n",
    "print(\"Element at [2, 0, 1] (third depth, first row, second column):\", array_3d[2, 0, 1])  \n",
    "print(\"Element at [-1, -1, -1] (last depth, last row, last column):\", array_3d[-1, -1, -1])  "
   ]
  },
  {
   "cell_type": "markdown",
   "metadata": {},
   "source": [
    "## Examples"
   ]
  },
  {
   "cell_type": "code",
   "execution_count": 23,
   "metadata": {},
   "outputs": [],
   "source": [
    "# Job titles\n",
    "job_titles = np.array([\"Data Analyst\", \"Data Scientist\",\n",
    "                      \"Data Engineer\", \"Machine Learning Engineer\",\"AI Engineer\"])\n",
    "\n",
    "# Base salary\n",
    "base_salary = np.array([30000, 50000, 60000, 55000,np.nan])\n",
    "\n",
    "# Bonus rate\n",
    "bonus_rate = np.array([[.05, .1, .08, .12,np.nan]])"
   ]
  },
  {
   "cell_type": "code",
   "execution_count": 24,
   "metadata": {},
   "outputs": [
    {
     "data": {
      "text/plain": [
       "array([[31500., 55000., 64800., 61600.,    nan]])"
      ]
     },
     "execution_count": 24,
     "metadata": {},
     "output_type": "execute_result"
    }
   ],
   "source": [
    "total_salary = base_salary * (1 + bonus_rate)\n",
    "total_salary"
   ]
  },
  {
   "cell_type": "code",
   "execution_count": 28,
   "metadata": {},
   "outputs": [
    {
     "data": {
      "text/plain": [
       "np.float64(53225.0)"
      ]
     },
     "execution_count": 28,
     "metadata": {},
     "output_type": "execute_result"
    }
   ],
   "source": [
    "np.nanmean(total_salary)"
   ]
  }
 ],
 "metadata": {
  "kernelspec": {
   "display_name": "Python 3",
   "language": "python",
   "name": "python3"
  },
  "language_info": {
   "codemirror_mode": {
    "name": "ipython",
    "version": 3
   },
   "file_extension": ".py",
   "mimetype": "text/x-python",
   "name": "python",
   "nbconvert_exporter": "python",
   "pygments_lexer": "ipython3",
   "version": "3.12.1"
  }
 },
 "nbformat": 4,
 "nbformat_minor": 2
}
