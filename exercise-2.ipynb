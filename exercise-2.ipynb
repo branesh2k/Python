{
 "cells": [
  {
   "cell_type": "markdown",
   "metadata": {},
   "source": [
    "## Cleaning Data\n",
    "\n",
    "cleanup `list` and `datetime` object"
   ]
  },
  {
   "cell_type": "code",
   "execution_count": 1,
   "metadata": {},
   "outputs": [],
   "source": [
    "data_science_jobs = [\n",
    "    {'job_title': 'Data Scientist', 'job_skills': \"['Python','SQL','Machine Learning']\", 'job_date': \"2023-05-12\"},\n",
    "    {'job_title': 'Data Analyst', 'job_skills': \"['Excel','SQL','Statistics']\", 'job_date': \"2023-06-05\"},\n",
    "    {'job_title': 'Machine Learning Engineer', 'job_skills': \"['Python','TensorFlow','Deep Learning']\", 'job_date': \"2023-06-20\"},\n",
    "    {'job_title': 'Data Engineer', 'job_skills': \"['Python','SQL','ETL']\", 'job_date': \"2023-07-02\"},\n",
    "    {'job_title': 'Business Intelligence Analyst', 'job_skills': \"['SQL','Tableau','Data Visualization']\", 'job_date': \"2023-07-15\"}\n",
    "]\n"
   ]
  },
  {
   "cell_type": "markdown",
   "metadata": {},
   "source": [
    "coverting the string into datetime"
   ]
  },
  {
   "cell_type": "code",
   "execution_count": 6,
   "metadata": {},
   "outputs": [
    {
     "name": "stdout",
     "output_type": "stream",
     "text": [
      "2024-07-06 09:02:39.036374\n"
     ]
    },
    {
     "data": {
      "text/plain": [
       "str"
      ]
     },
     "execution_count": 6,
     "metadata": {},
     "output_type": "execute_result"
    }
   ],
   "source": [
    "from datetime import datetime\n",
    "\n",
    "print(datetime.now())\n",
    "\n",
    "type(data_science_jobs[0]['job_date'])"
   ]
  },
  {
   "cell_type": "code",
   "execution_count": 15,
   "metadata": {},
   "outputs": [
    {
     "name": "stdout",
     "output_type": "stream",
     "text": [
      "2023-05-12 00:00:00\n"
     ]
    }
   ],
   "source": [
    "test_date=datetime.strptime(data_science_jobs[0]['job_date'],\"%Y-%m-%d\")\n",
    "print(test_date)"
   ]
  },
  {
   "cell_type": "code",
   "execution_count": 23,
   "metadata": {},
   "outputs": [],
   "source": [
    "for jobs in data_science_jobs:\n",
    "    jobs['job_date']=datetime.strptime(jobs['job_date'],\"%Y-%m-%d\")\n"
   ]
  },
  {
   "cell_type": "code",
   "execution_count": 24,
   "metadata": {},
   "outputs": [
    {
     "data": {
      "text/plain": [
       "[{'job_title': 'Data Scientist',\n",
       "  'job_skills': \"['Python','SQL','Machine Learning']\",\n",
       "  'job_date': datetime.datetime(2023, 5, 12, 0, 0)},\n",
       " {'job_title': 'Data Analyst',\n",
       "  'job_skills': \"['Excel','SQL','Statistics']\",\n",
       "  'job_date': datetime.datetime(2023, 6, 5, 0, 0)},\n",
       " {'job_title': 'Machine Learning Engineer',\n",
       "  'job_skills': \"['Python','TensorFlow','Deep Learning']\",\n",
       "  'job_date': datetime.datetime(2023, 6, 20, 0, 0)},\n",
       " {'job_title': 'Data Engineer',\n",
       "  'job_skills': \"['Python','SQL','ETL']\",\n",
       "  'job_date': datetime.datetime(2023, 7, 2, 0, 0)},\n",
       " {'job_title': 'Business Intelligence Analyst',\n",
       "  'job_skills': \"['SQL','Tableau','Data Visualization']\",\n",
       "  'job_date': datetime.datetime(2023, 7, 15, 0, 0)}]"
      ]
     },
     "execution_count": 24,
     "metadata": {},
     "output_type": "execute_result"
    }
   ],
   "source": [
    "data_science_jobs"
   ]
  },
  {
   "cell_type": "code",
   "execution_count": 25,
   "metadata": {},
   "outputs": [
    {
     "data": {
      "text/plain": [
       "datetime.datetime"
      ]
     },
     "execution_count": 25,
     "metadata": {},
     "output_type": "execute_result"
    }
   ],
   "source": [
    "type(data_science_jobs[0]['job_date'])"
   ]
  },
  {
   "cell_type": "markdown",
   "metadata": {},
   "source": [
    "converting the strings into Lists"
   ]
  },
  {
   "cell_type": "code",
   "execution_count": 26,
   "metadata": {},
   "outputs": [],
   "source": [
    "import ast\n",
    "\n",
    "for job in data_science_jobs:\n",
    "    job['job_skills'] = ast.literal_eval(job['job_skills'])"
   ]
  },
  {
   "cell_type": "code",
   "execution_count": 29,
   "metadata": {},
   "outputs": [
    {
     "data": {
      "text/plain": [
       "[{'job_title': 'Data Scientist',\n",
       "  'job_skills': ['Python', 'SQL', 'Machine Learning'],\n",
       "  'job_date': datetime.datetime(2023, 5, 12, 0, 0)},\n",
       " {'job_title': 'Data Analyst',\n",
       "  'job_skills': ['Excel', 'SQL', 'Statistics'],\n",
       "  'job_date': datetime.datetime(2023, 6, 5, 0, 0)},\n",
       " {'job_title': 'Machine Learning Engineer',\n",
       "  'job_skills': ['Python', 'TensorFlow', 'Deep Learning'],\n",
       "  'job_date': datetime.datetime(2023, 6, 20, 0, 0)},\n",
       " {'job_title': 'Data Engineer',\n",
       "  'job_skills': ['Python', 'SQL', 'ETL'],\n",
       "  'job_date': datetime.datetime(2023, 7, 2, 0, 0)},\n",
       " {'job_title': 'Business Intelligence Analyst',\n",
       "  'job_skills': ['SQL', 'Tableau', 'Data Visualization'],\n",
       "  'job_date': datetime.datetime(2023, 7, 15, 0, 0)}]"
      ]
     },
     "execution_count": 29,
     "metadata": {},
     "output_type": "execute_result"
    }
   ],
   "source": [
    "data_science_jobs"
   ]
  },
  {
   "cell_type": "code",
   "execution_count": null,
   "metadata": {},
   "outputs": [],
   "source": []
  }
 ],
 "metadata": {
  "kernelspec": {
   "display_name": "Python 3",
   "language": "python",
   "name": "python3"
  },
  "language_info": {
   "codemirror_mode": {
    "name": "ipython",
    "version": 3
   },
   "file_extension": ".py",
   "mimetype": "text/x-python",
   "name": "python",
   "nbconvert_exporter": "python",
   "pygments_lexer": "ipython3",
   "version": "3.12.1"
  }
 },
 "nbformat": 4,
 "nbformat_minor": 2
}
