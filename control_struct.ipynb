{
 "cells": [
  {
   "cell_type": "markdown",
   "metadata": {},
   "source": [
    "## *Control Structures*"
   ]
  },
  {
   "cell_type": "markdown",
   "metadata": {},
   "source": [
    "#### Conditional statement\n",
    "  If `expression` = true, \"If\" part will be excuted or  \n",
    "  \"else\" part executed"
   ]
  },
  {
   "cell_type": "code",
   "execution_count": 4,
   "metadata": {},
   "outputs": [
    {
     "name": "stdout",
     "output_type": "stream",
     "text": [
      "Sorry! you cannot vote\n"
     ]
    }
   ],
   "source": [
    "\"\"\"checking whether the user can ale to vote or not \"\"\"\n",
    "\n",
    "age = int(input(\"what's your age?\"))\n",
    "\n",
    "if (age >= 18):\n",
    "    print(\"Your are eligible to vote\")\n",
    "else:\n",
    "    print(\"Sorry! you cannot vote\")"
   ]
  },
  {
   "cell_type": "code",
   "execution_count": 5,
   "metadata": {},
   "outputs": [
    {
     "name": "stdout",
     "output_type": "stream",
     "text": [
      "Sorry! we prefer applicants with skill in Python\n"
     ]
    }
   ],
   "source": [
    "\"\"\"Job Eligibility criteria\"\"\"\n",
    "required_skill = 'python'\n",
    "applicant_skill = input(\"Enter your skill\")\n",
    "applicant_skill = applicant_skill.lower()\n",
    "required_experience = 2\n",
    "applicant_exp = int(input(\"Enter your experience in yrs \"))\n",
    "\n",
    "if (applicant_skill == required_skill) and (applicant_exp >= required_experience):\n",
    "    print(\"Applicant match our requirement\")\n",
    "elif (applicant_skill != required_skill) and (applicant_exp < required_experience):\n",
    "    print(\"Requirements doesn't match\")\n",
    "elif applicant_exp < required_experience:\n",
    "    print(\"Experince not enough\")\n",
    "else:\n",
    "    print(\"Sorry! we prefer applicants with skill in Python\")"
   ]
  },
  {
   "cell_type": "markdown",
   "metadata": {},
   "source": [
    "#### Loops"
   ]
  },
  {
   "cell_type": "markdown",
   "metadata": {},
   "source": [
    "##### *`For`* loop"
   ]
  },
  {
   "cell_type": "code",
   "execution_count": 13,
   "metadata": {},
   "outputs": [
    {
     "name": "stdout",
     "output_type": "stream",
     "text": [
      "A\n",
      "l\n",
      "p\n",
      "h\n",
      "a\n",
      "b\n",
      "e\n",
      "t\n"
     ]
    }
   ],
   "source": [
    "\"\"\" printing the word 'Alphabet vertically\"\"\"\n",
    "\n",
    "for letters in \"Alphabet\":\n",
    "    print(letters)"
   ]
  },
  {
   "cell_type": "code",
   "execution_count": 6,
   "metadata": {},
   "outputs": [
    {
     "name": "stdout",
     "output_type": "stream",
     "text": [
      "1\n",
      "2\n",
      "3\n",
      "4\n",
      "5\n"
     ]
    }
   ],
   "source": [
    "lst = [1,2,3,4,5]\n",
    "\n",
    "for num in lst:\n",
    "    print(num)"
   ]
  },
  {
   "cell_type": "code",
   "execution_count": 7,
   "metadata": {},
   "outputs": [
    {
     "name": "stdout",
     "output_type": "stream",
     "text": [
      "0 1 2 3 4 5 6 7 8 9 "
     ]
    }
   ],
   "source": [
    "for num in range(10):\n",
    "    print(num,end=\" \")"
   ]
  },
  {
   "cell_type": "code",
   "execution_count": 8,
   "metadata": {},
   "outputs": [
    {
     "name": "stdout",
     "output_type": "stream",
     "text": [
      "Ram has 6 years of experience\n",
      "sree has 7 years of experience\n"
     ]
    }
   ],
   "source": [
    "years_exp = {'Branesh': 3,\n",
    "             'Ram': 6, \n",
    "             'Sam': 4, \n",
    "             'shogun':3,\n",
    "             'sree':7}\n",
    "\n",
    "for name,years in years_exp.items():\n",
    "    if years > 4:\n",
    "        print(f'{name} has {years} years of experience')"
   ]
  },
  {
   "cell_type": "markdown",
   "metadata": {},
   "source": [
    "##### *`while`* loop"
   ]
  },
  {
   "cell_type": "code",
   "execution_count": 9,
   "metadata": {},
   "outputs": [
    {
     "name": "stdout",
     "output_type": "stream",
     "text": [
      "Ram 6\n"
     ]
    }
   ],
   "source": [
    "years_exp_list = list(years_exp.items())\n",
    "\n",
    "year = 0 \n",
    "index = 0 \n",
    "\n",
    "while year < 5:\n",
    "    name,year = years_exp_list[index]\n",
    "    if year >= 5:\n",
    "        print(name,year)\n",
    "    index += 1"
   ]
  },
  {
   "cell_type": "markdown",
   "metadata": {},
   "source": [
    "### Nested Loops"
   ]
  },
  {
   "cell_type": "code",
   "execution_count": 10,
   "metadata": {},
   "outputs": [
    {
     "name": "stdout",
     "output_type": "stream",
     "text": [
      "     \n",
      "    *\n",
      "   ***\n",
      "  *****\n",
      " *******\n",
      "*********\n"
     ]
    }
   ],
   "source": [
    "for i in range(6):\n",
    "    for j in range(6-i-1):\n",
    "        print(\" \",end='')\n",
    "    for k in range(2*i-1):\n",
    "        print('*',end='')\n",
    "    print()"
   ]
  },
  {
   "cell_type": "code",
   "execution_count": 11,
   "metadata": {},
   "outputs": [
    {
     "name": "stdout",
     "output_type": "stream",
     "text": [
      " 1 x 2 =  2\n",
      " 2 x 2 =  4\n",
      " 3 x 2 =  6\n",
      " 4 x 2 =  8\n",
      " 5 x 2 = 10\n",
      " 6 x 2 = 12\n",
      " 7 x 2 = 14\n",
      " 8 x 2 = 16\n",
      " 9 x 2 = 18\n",
      "10 x 2 = 20\n"
     ]
    }
   ],
   "source": [
    "tab = 2\n",
    "while tab == 2:\n",
    "    for i in range(1,11):\n",
    "        print(f'{i:2} x {tab} = {i*tab:2}')         #`:2` is format specifier, means 2 nums right aligned.\n",
    "    break\n"
   ]
  },
  {
   "cell_type": "code",
   "execution_count": 12,
   "metadata": {},
   "outputs": [
    {
     "name": "stdout",
     "output_type": "stream",
     "text": [
      "  1   2   3   4   5   6   7   8   9  10 \n",
      "  2   4   6   8  10  12  14  16  18  20 \n",
      "  3   6   9  12  15  18  21  24  27  30 \n",
      "  4   8  12  16  20  24  28  32  36  40 \n",
      "  5  10  15  20  25  30  35  40  45  50 \n",
      "  6  12  18  24  30  36  42  48  54  60 \n",
      "  7  14  21  28  35  42  49  56  63  70 \n",
      "  8  16  24  32  40  48  56  64  72  80 \n",
      "  9  18  27  36  45  54  63  72  81  90 \n",
      " 10  20  30  40  50  60  70  80  90 100 \n"
     ]
    }
   ],
   "source": [
    "for i in range(1, 11):\n",
    "    for j in range(1, 11):\n",
    "        print(f\"{i * j:3}\", end=\" \")\n",
    "    print()"
   ]
  }
 ],
 "metadata": {
  "kernelspec": {
   "display_name": "Python 3",
   "language": "python",
   "name": "python3"
  },
  "language_info": {
   "codemirror_mode": {
    "name": "ipython",
    "version": 3
   },
   "file_extension": ".py",
   "mimetype": "text/x-python",
   "name": "python",
   "nbconvert_exporter": "python",
   "pygments_lexer": "ipython3",
   "version": "3.12.1"
  }
 },
 "nbformat": 4,
 "nbformat_minor": 2
}
