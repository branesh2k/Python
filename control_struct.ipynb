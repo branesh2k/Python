{
 "cells": [
  {
   "cell_type": "markdown",
   "metadata": {},
   "source": [
    "## *Control Structures*"
   ]
  },
  {
   "cell_type": "markdown",
   "metadata": {},
   "source": [
    "#### Conditional statement\n",
    "  If `expression` = true, \"If\" part will be excuted or  \n",
    "  \"else\" part executed"
   ]
  },
  {
   "cell_type": "code",
   "execution_count": 4,
   "metadata": {},
   "outputs": [
    {
     "name": "stdout",
     "output_type": "stream",
     "text": [
      "Your are eligible to vote\n"
     ]
    }
   ],
   "source": [
    "\"\"\"checking whether the user can ale to vote or not \"\"\"\n",
    "\n",
    "age = int(input(\"what's your age?\"))\n",
    "\n",
    "if (age >= 18):\n",
    "    print(\"Your are eligible to vote\")\n",
    "else:\n",
    "    print(\"Sorry! you cannot vote\")"
   ]
  },
  {
   "cell_type": "code",
   "execution_count": 23,
   "metadata": {},
   "outputs": [
    {
     "name": "stdout",
     "output_type": "stream",
     "text": [
      "Applicant match our requirement\n"
     ]
    }
   ],
   "source": [
    "\"\"\"Job Eligibility criteria\"\"\"\n",
    "required_skill = 'python'\n",
    "applicant_skill = input(\"Enter your skill\")\n",
    "applicant_skill = applicant_skill.lower()\n",
    "required_experience = 2\n",
    "applicant_exp = int(input(\"Enter your experience in yrs \"))\n",
    "\n",
    "if (applicant_skill == required_skill) and (applicant_exp >= required_experience):\n",
    "    print(\"Applicant match our requirement\")\n",
    "elif (applicant_skill != required_skill) and (applicant_exp < required_experience):\n",
    "    print(\"Requirements doesn't match\")\n",
    "elif applicant_exp < required_experience:\n",
    "    print(\"Experince not enough\")\n",
    "else:\n",
    "    print(\"Sorry! we prefer applicants with skill in Python\")"
   ]
  },
  {
   "cell_type": "markdown",
   "metadata": {},
   "source": [
    "### Loops"
   ]
  },
  {
   "cell_type": "markdown",
   "metadata": {},
   "source": [
    "#### For- Loop"
   ]
  },
  {
   "cell_type": "code",
   "execution_count": 1,
   "metadata": {},
   "outputs": [
    {
     "name": "stdout",
     "output_type": "stream",
     "text": [
      "A\n",
      "l\n",
      "p\n",
      "h\n",
      "a\n",
      "b\n",
      "e\n",
      "t\n"
     ]
    }
   ],
   "source": [
    "\"\"\" printing the word 'Alphabet vertically\"\"\"\n",
    "\n",
    "for letters in \"Alphabet\":\n",
    "    print(letters)"
   ]
  },
  {
   "cell_type": "code",
   "execution_count": null,
   "metadata": {},
   "outputs": [],
   "source": []
  }
 ],
 "metadata": {
  "kernelspec": {
   "display_name": "Python 3",
   "language": "python",
   "name": "python3"
  },
  "language_info": {
   "codemirror_mode": {
    "name": "ipython",
    "version": 3
   },
   "file_extension": ".py",
   "mimetype": "text/x-python",
   "name": "python",
   "nbconvert_exporter": "python",
   "pygments_lexer": "ipython3",
   "version": "3.12.1"
  }
 },
 "nbformat": 4,
 "nbformat_minor": 2
}
